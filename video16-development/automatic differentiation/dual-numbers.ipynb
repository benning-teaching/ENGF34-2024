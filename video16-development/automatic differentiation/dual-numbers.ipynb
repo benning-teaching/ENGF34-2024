{
 "cells": [
  {
   "cell_type": "markdown",
   "metadata": {},
   "source": [
    "# Dual Numbers and Automatic Differentiation\n",
    "\n",
    "This is a demo notebook for the ENGF0034 module \"Design and Professional Skills\" at University College London (UCL) in the academic year 2024 / 2025.\n",
    "\n",
    "Author: [Martin Benning](mailto:martin.benning@ucl.ac.uk)\n",
    "\n",
    "Date: 30.03.2020\n",
    "\n",
    "Last updated: 02.12.2024\n",
    "\n",
    "First we load the necessary libraries."
   ]
  },
  {
   "cell_type": "code",
   "execution_count": 1,
   "metadata": {
    "nbgrader": {
     "grade": false,
     "grade_id": "cell-89f1b07cb349ddf3",
     "locked": true,
     "schema_version": 3,
     "solution": false,
     "task": false
    }
   },
   "outputs": [],
   "source": [
    "import math\n",
    "%load_ext autoreload\n",
    "%autoreload 2"
   ]
  },
  {
   "cell_type": "markdown",
   "metadata": {
    "nbgrader": {
     "grade": false,
     "grade_id": "cell-b21c07062b2922c5",
     "locked": true,
     "schema_version": 3,
     "solution": false,
     "task": false
    }
   },
   "source": [
    "## Dual numbers and automatic differentiation\n",
    "\n",
    "In this notebook we want to implement the forward mode of automatic differentiation with the help of dual numbers. We first implement a class **Dual** with the constructor **__init__**, the functions **__add__**, **__radd__**, **__sub__**, **__rsub__**, **__mul__**, **__rmul__**, **__matmul__**, **__rmatmul__**, **__truediv__**, **__rtruediv__**, **__neg__** and **__pow__**, and the property **T**. As the names suggest, those  functions and properties implement basic arithmetic operations for Dual numbers:\n",
    "\n",
    "__init__ : constructor that initialises an object of class **Dual**. Each object represents a dual number $a + \\varepsilon \\, b$ with real component $a$ (*self.real*) and dual component $b$ (*self.dual*).\n",
    "\n",
    "__add__ : adds an argument _argument_ to the dual number, i.e. $a + \\varepsilon \\, b + \\text{argument}$. \n",
    "\n",
    "__radd__ : adds the dual number to the argument _argument_, i.e. $\\text{argument} + a + \\varepsilon \\, b$.\n",
    "\n",
    "__sub__ : subtracts an argument _argument_ from the dual number. \n",
    "\n",
    "__rsub__ : subtracts the dual number from the argument _argument_.\n",
    "\n",
    "__mul__ : multiplies the dual number with the argument _argument_.\n",
    "\n",
    "__rmul__ : multiplies an argument _argument_ with the dual number. \n",
    "\n",
    "__matmul__ : multiplies the dual number to the matrix-argument _argument_. \n",
    "\n",
    "__rmatmul__ : multiplies the the matrix-argument _argument_ to the dual number.\n",
    "\n",
    "__truediv__ : divides the dual number by an argument _argument_.\n",
    "\n",
    "__rtruediv__ : divides the argument _argument_ by the dual number.\n",
    "\n",
    "__neg__ : returns the neagtive of the dual number $a + \\varepsilon b$, i.e. $-a - \\varepsilon b$.\n",
    "\n",
    "__pow__ : takes the _power_-th power of the dual number.\n",
    "\n",
    "**T** : returns the transpose of the dual number."
   ]
  },
  {
   "cell_type": "code",
   "execution_count": null,
   "metadata": {
    "nbgrader": {
     "grade": false,
     "grade_id": "cell-1f61758eb76b473d",
     "locked": false,
     "schema_version": 3,
     "solution": true,
     "task": false
    }
   },
   "outputs": [],
   "source": [
    "class Dual:\n",
    "    \n",
    "    def __init__(self, real, dual):\n",
    "        self.real = real\n",
    "        self.dual = dual\n",
    "        \n",
    "    def __add__(self, argument):\n",
    "        if isinstance(argument, Dual):\n",
    "            return Dual(self.real + argument.real, self.dual + argument.dual)\n",
    "        else:\n",
    "            return Dual(self.real + argument, self.dual)\n",
    "        \n",
    "    __radd__ = __add__\n",
    "    \n",
    "    def __sub__(self, argument):\n",
    "        if isinstance(argument, Dual):\n",
    "            return Dual(self.real - argument.real, self.dual - argument.dual)\n",
    "        else:\n",
    "            return Dual(self.real - argument, self.dual)\n",
    "        \n",
    "    def __rsub__(self, argument):\n",
    "        return Dual(argument, 0) - self\n",
    "    \n",
    "    def __mul__(self, argument):\n",
    "        if isinstance(argument, Dual):\n",
    "            return Dual(self.real * argument.real, self.real * argument.dual + \\\n",
    "                self.dual * argument.real)\n",
    "        else:\n",
    "            return Dual(self.real * argument, self.dual * argument.real)\n",
    "        \n",
    "    __rmul__ = __mul__\n",
    "    \n",
    "    def __matmul__(self, argument):\n",
    "        if isinstance(argument, Dual):\n",
    "            return Dual(self.real @ argument.real, self.real @ argument.dual + \\\n",
    "                        self.dual @ argument.real)\n",
    "        else:\n",
    "            return Dual(self.real @ argument, self.dual @ argument)\n",
    "        \n",
    "    def __rmatmul__(self, argument):\n",
    "        if isinstance(argument, Dual):\n",
    "            return Dual(argument.real @ self.real, argument.real @ self.dual + \\\n",
    "                        argument.dual @ self.real)\n",
    "        else:\n",
    "            return Dual(argument @ self.real, argument @ self.dual)\n",
    "    \n",
    "    def __truediv__(self, argument):\n",
    "        if isinstance(argument, Dual):            \n",
    "            if argument.real == 0:\n",
    "                raise ZeroDivisionError('Real part of dual number is zero.')\n",
    "            else:\n",
    "                return Dual(self.real / argument.real, (self.dual * argument.real - \\\n",
    "                        self.real * argument.dual)/(argument.real ** 2))\n",
    "        else:\n",
    "            if argument == 0:\n",
    "                raise ZeroDivisionError('Argument is zero.')\n",
    "            else:\n",
    "                return Dual(self.real / argument, self.dual)\n",
    "        \n",
    "    def __rtruediv__(self, argument):\n",
    "        return Dual(argument, 0).__truediv__(self)\n",
    "        \n",
    "    def __neg__(self):\n",
    "        return Dual(-self.real, -self.dual)\n",
    "    \n",
    "    def __pow__(self, power):\n",
    "        if power < 1:\n",
    "            print('The power needs to be larger than one.')\n",
    "        else:\n",
    "            return Dual(self.real ** power, power * self.dual * (self.real ** \\\n",
    "                            (power - 1)))\n",
    "    \n",
    "    def __repr__(self):                    \n",
    "        if self.dual == 0:\n",
    "            representation = repr(self.real)    \n",
    "        elif self.dual == 1:\n",
    "            representation = repr(self.real) + ' + epsilon'\n",
    "        elif self.dual == -1:\n",
    "            representation = repr(self.real) + ' - epsilon'\n",
    "        elif self.dual > 0:\n",
    "            representation = repr(self.real) + ' + ' + repr(self.dual) + ' * epsilon'\n",
    "        else:\n",
    "            representation = repr(self.real) + ' - ' + repr(-self.dual) + ' * epsilon'\n",
    "        return representation\n",
    "    \n",
    "    def __str__(self):\n",
    "        if self.dual == 0:\n",
    "            representation = str(self.real)    \n",
    "        elif self.dual == 1:\n",
    "            representation = str(self.real) + \" + epsilon\"\n",
    "        elif self.dual == -1:\n",
    "            representation = str(self.real) + \" - epsilon\"\n",
    "        elif self.dual > 0:\n",
    "            representation = str(self.real) + \" + \" + str(self.dual) + \" * epsilon\"\n",
    "        else:\n",
    "            representation = str(self.real) + \" - \" + str(-self.dual) + \" * epsilon\"\n",
    "        return representation\n",
    "    \n",
    "    @property\n",
    "    def T(self):\n",
    "        return Dual(self.real.T, self.dual.T)"
   ]
  },
  {
   "cell_type": "markdown",
   "metadata": {
    "nbgrader": {
     "grade": false,
     "grade_id": "cell-79544d808ca0ec3a",
     "locked": true,
     "schema_version": 3,
     "solution": false,
     "task": false
    }
   },
   "source": [
    "We can now construct dual numbers such as $a = 9 - \\varepsilon$ and $b = -3 + 7\\varepsilon$ and multiply them to obtain $c = a b$."
   ]
  },
  {
   "cell_type": "code",
   "execution_count": 3,
   "metadata": {
    "nbgrader": {
     "grade": true,
     "grade_id": "cell-dc94c9860dbc2411",
     "locked": true,
     "points": 1,
     "schema_version": 3,
     "solution": false,
     "task": false
    }
   },
   "outputs": [
    {
     "name": "stdout",
     "output_type": "stream",
     "text": [
      "9 - epsilon \n",
      "\n",
      " -3 + 7 * epsilon \n",
      "\n",
      " -27 + 66 * epsilon\n"
     ]
    }
   ],
   "source": [
    "a = Dual(9, -1)\n",
    "b = Dual(-3, 7)\n",
    "c = a * b\n",
    "print(a,'\\n\\n',b,'\\n\\n',c)"
   ]
  },
  {
   "cell_type": "markdown",
   "metadata": {},
   "source": [
    "We can also write more complicated expressions, such as the polynomial \n",
    "\n",
    "$$\\frac{(3x^2 - 2x + 5)^2}{5x^2 - 7x^3 - 1}$$\n",
    "\n",
    "on a dual number $x = 3 + \\varepsilon$, with the following lines of code."
   ]
  },
  {
   "cell_type": "code",
   "execution_count": 4,
   "metadata": {
    "nbgrader": {
     "grade": true,
     "grade_id": "cell-ca8c542ed6583849",
     "locked": true,
     "points": 1,
     "schema_version": 3,
     "solution": false,
     "task": false
    }
   },
   "outputs": [
    {
     "name": "stdout",
     "output_type": "stream",
     "text": [
      "-4.662068965517242 - 0.625731272294887 * epsilon\n"
     ]
    }
   ],
   "source": [
    "x = Dual(3, 1)\n",
    "polynomial = (3*x**2 - 2*x + 5) ** 2 / (-7*x**3 + 5*x**2 - 1)\n",
    "print(polynomial)"
   ]
  },
  {
   "cell_type": "markdown",
   "metadata": {
    "nbgrader": {
     "grade": false,
     "grade_id": "cell-37944218508debc5",
     "locked": true,
     "schema_version": 3,
     "solution": false,
     "task": false
    }
   },
   "source": [
    "Next, we implement the following functions that are acting on dual numbers of the form $a + \\varepsilon \\, b$:\n",
    "    \n",
    "**log** : $\\log(a + \\varepsilon \\, b)$\n",
    "\n",
    "**exp** : $\\exp(a + \\varepsilon \\, b)$\n",
    "\n",
    "**sin** : $\\sin(a + \\varepsilon \\, b)$\n",
    "\n",
    "**cos** : $\\cos(a + \\varepsilon \\, b)$\n",
    "\n",
    "**sigmoid** : $\\frac{1}{1 + \\exp(-(a + \\varepsilon \\, b))}$\n",
    "\n",
    "**tanh** : $\\tanh(a + \\varepsilon \\, b)$\n",
    "\n",
    "**dual_sum** : $\\sum_{j = 1}^n a_j + \\varepsilon \\, b_j$; sum can be taken across individual array-dimensions."
   ]
  },
  {
   "cell_type": "code",
   "execution_count": 5,
   "metadata": {
    "nbgrader": {
     "grade": false,
     "grade_id": "cell-2c240dd1c27bfdfb",
     "locked": false,
     "schema_version": 3,
     "solution": true,
     "task": false
    }
   },
   "outputs": [],
   "source": [
    "def log(dual_number):\n",
    "    return Dual(math.log(dual_number.real), dual_number.dual / dual_number.real)\n",
    "\n",
    "def exp(dual_number):\n",
    "    return Dual(math.exp(dual_number.real), dual_number.dual * math.exp(dual_number.real))\n",
    "    \n",
    "def sin(dual_number):\n",
    "    return Dual(math.sin(dual_number.real), dual_number.dual * math.cos(dual_number.real))\n",
    "    \n",
    "def cos(dual_number):\n",
    "    return Dual(math.cos(dual_number.real), - dual_number.dual * math.sin(dual_number.real))\n",
    "\n",
    "def sigmoid(dual_number):\n",
    "    return 1/(1 + exp(-dual_number))\n",
    "\n",
    "def tanh(dual_number):\n",
    "    return Dual(math.tanh(dual_number.real), dual_number.dual * (1 - (math.tanh( \\\n",
    "                dual_number.real) ** 2)))"
   ]
  },
  {
   "cell_type": "markdown",
   "metadata": {
    "nbgrader": {
     "grade": false,
     "grade_id": "cell-923165f14a17c93b",
     "locked": true,
     "schema_version": 3,
     "solution": false,
     "task": false
    }
   },
   "source": [
    "Next, we compare the dual part of the function\n",
    "\n",
    "$$ f(x) = \\frac{\\sin(3x^2 - 2x)}{\\exp(1 + \\cos(-5x^2))} \\, ,$$\n",
    "\n",
    "for the dual number $x = \\sqrt{2} + \\varepsilon$, with the symbolic derivative of $f$ at $\\sqrt{2}$."
   ]
  },
  {
   "cell_type": "code",
   "execution_count": 6,
   "metadata": {
    "nbgrader": {
     "grade": true,
     "grade_id": "cell-25cb582b508206b7",
     "locked": true,
     "points": 1,
     "schema_version": 3,
     "solution": false,
     "task": false
    }
   },
   "outputs": [
    {
     "name": "stdout",
     "output_type": "stream",
     "text": [
      "-5.322441790414181 -5.322441790414183\n"
     ]
    }
   ],
   "source": [
    "x = Dual(math.sqrt(2), 1)\n",
    "f = sin(3*(x ** 2) - 2*x)/exp(1 + cos(-5*(x ** 2)))\n",
    "\n",
    "def symbolic_derivative_of_f(x):\n",
    "    output = math.exp(-math.cos(5*(x ** 2)) - 1) * ((6*x - 2)*math.cos((2 - 3*x)*x) - \\\n",
    "                    10*x*math.sin((2 - 3*x)*x)*math.sin(5*(x ** 2)))\n",
    "    return output\n",
    "\n",
    "print(f.dual, symbolic_derivative_of_f(x.real))"
   ]
  },
  {
   "cell_type": "markdown",
   "metadata": {},
   "source": [
    "In the presentation, we look at the function\n",
    "\n",
    "$$ f(w_1, \\ldots, w_l) = \\frac12 \\left( \\tanh\\left(w_l \\tanh\\left( w_{l - 1} \\tanh\\left( \\cdots w_2 \\tanh( w_1 x ) \\right) \\cdots \\right) \\right) - y \\right)^2 $$\n",
    "\n",
    "We can obviously calculate the derivate with respect to an individual $w_j$ by hand by using the chain rule, but we can do this also automatically with the help of dual numbers. "
   ]
  },
  {
   "cell_type": "code",
   "execution_count": 7,
   "metadata": {},
   "outputs": [
    {
     "name": "stdout",
     "output_type": "stream",
     "text": [
      "-0.054627963773436615\n"
     ]
    }
   ],
   "source": [
    "x = Dual(-3, 0)\n",
    "y = Dual(100, 0)\n",
    "w = [Dual(-1, 0), Dual(5, 0), Dual(3/2, 0), Dual(-1/3, 1), Dual(20, 0)]\n",
    "f = 1/2*(tanh(w[4]*tanh(w[3]*tanh(w[2]*tanh(w[1]*tanh(w[0] * x))))) - y) ** 2\n",
    "print(f.dual)"
   ]
  },
  {
   "cell_type": "markdown",
   "metadata": {
    "nbgrader": {
     "grade": false,
     "grade_id": "cell-a2363a72b77853c1",
     "locked": true,
     "schema_version": 3,
     "solution": false,
     "task": false
    }
   },
   "source": [
    "This is the end of this notebook."
   ]
  }
 ],
 "metadata": {
  "celltoolbar": "Create Assignment",
  "kernelspec": {
   "display_name": "ENGF34-2024",
   "language": "python",
   "name": "python3"
  },
  "language_info": {
   "codemirror_mode": {
    "name": "ipython",
    "version": 3
   },
   "file_extension": ".py",
   "mimetype": "text/x-python",
   "name": "python",
   "nbconvert_exporter": "python",
   "pygments_lexer": "ipython3",
   "version": "3.9.6"
  }
 },
 "nbformat": 4,
 "nbformat_minor": 4
}
